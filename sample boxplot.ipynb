{
 "cells": [
  {
   "cell_type": "code",
   "execution_count": 19,
   "metadata": {},
   "outputs": [],
   "source": [
    "import pandas as pd\n",
    "import matplotlib.pyplot as plt\n",
    "pd.options.mode.chained_assignment = None  # default='warn'"
   ]
  },
  {
   "cell_type": "code",
   "execution_count": 26,
   "metadata": {},
   "outputs": [
    {
     "data": {
      "text/html": [
       "<div>\n",
       "<style scoped>\n",
       "    .dataframe tbody tr th:only-of-type {\n",
       "        vertical-align: middle;\n",
       "    }\n",
       "\n",
       "    .dataframe tbody tr th {\n",
       "        vertical-align: top;\n",
       "    }\n",
       "\n",
       "    .dataframe thead th {\n",
       "        text-align: right;\n",
       "    }\n",
       "</style>\n",
       "<table border=\"1\" class=\"dataframe\">\n",
       "  <thead>\n",
       "    <tr style=\"text-align: right;\">\n",
       "      <th></th>\n",
       "      <th>Country</th>\n",
       "      <th>Gov Trust Average</th>\n",
       "      <th>Generocity Average</th>\n",
       "      <th>Health Average</th>\n",
       "      <th>Family Average</th>\n",
       "      <th>Economy GDP Average</th>\n",
       "      <th>Freedom Average</th>\n",
       "      <th>Happiness Average</th>\n",
       "    </tr>\n",
       "  </thead>\n",
       "  <tbody>\n",
       "    <tr>\n",
       "      <th>0</th>\n",
       "      <td>Afghanistan</td>\n",
       "      <td>0.0580</td>\n",
       "      <td>0.2678</td>\n",
       "      <td>0.2546</td>\n",
       "      <td>0.4098</td>\n",
       "      <td>3.5128</td>\n",
       "      <td>0.1178</td>\n",
       "      <td>3.5128</td>\n",
       "    </tr>\n",
       "    <tr>\n",
       "      <th>1</th>\n",
       "      <td>Albania</td>\n",
       "      <td>0.0432</td>\n",
       "      <td>0.1678</td>\n",
       "      <td>0.7876</td>\n",
       "      <td>0.7550</td>\n",
       "      <td>4.7126</td>\n",
       "      <td>0.3718</td>\n",
       "      <td>4.7126</td>\n",
       "    </tr>\n",
       "    <tr>\n",
       "      <th>2</th>\n",
       "      <td>Algeria</td>\n",
       "      <td>0.1462</td>\n",
       "      <td>0.0690</td>\n",
       "      <td>0.6652</td>\n",
       "      <td>1.0742</td>\n",
       "      <td>5.6676</td>\n",
       "      <td>0.1784</td>\n",
       "      <td>5.6676</td>\n",
       "    </tr>\n",
       "    <tr>\n",
       "      <th>3</th>\n",
       "      <td>Argentina</td>\n",
       "      <td>0.0644</td>\n",
       "      <td>0.0924</td>\n",
       "      <td>0.7608</td>\n",
       "      <td>1.3308</td>\n",
       "      <td>6.4594</td>\n",
       "      <td>0.4818</td>\n",
       "      <td>6.4594</td>\n",
       "    </tr>\n",
       "    <tr>\n",
       "      <th>4</th>\n",
       "      <td>Armenia</td>\n",
       "      <td>0.0388</td>\n",
       "      <td>0.0824</td>\n",
       "      <td>0.6980</td>\n",
       "      <td>0.8908</td>\n",
       "      <td>4.3932</td>\n",
       "      <td>0.2158</td>\n",
       "      <td>4.3932</td>\n",
       "    </tr>\n",
       "    <tr>\n",
       "      <th>...</th>\n",
       "      <td>...</td>\n",
       "      <td>...</td>\n",
       "      <td>...</td>\n",
       "      <td>...</td>\n",
       "      <td>...</td>\n",
       "      <td>...</td>\n",
       "      <td>...</td>\n",
       "      <td>...</td>\n",
       "    </tr>\n",
       "    <tr>\n",
       "      <th>135</th>\n",
       "      <td>Venezuela</td>\n",
       "      <td>0.0714</td>\n",
       "      <td>0.0572</td>\n",
       "      <td>0.6838</td>\n",
       "      <td>1.3232</td>\n",
       "      <td>5.5314</td>\n",
       "      <td>0.2136</td>\n",
       "      <td>5.5314</td>\n",
       "    </tr>\n",
       "    <tr>\n",
       "      <th>136</th>\n",
       "      <td>Vietnam</td>\n",
       "      <td>0.0920</td>\n",
       "      <td>0.1958</td>\n",
       "      <td>0.7228</td>\n",
       "      <td>1.1382</td>\n",
       "      <td>5.1546</td>\n",
       "      <td>0.5772</td>\n",
       "      <td>5.1546</td>\n",
       "    </tr>\n",
       "    <tr>\n",
       "      <th>137</th>\n",
       "      <td>Yemen</td>\n",
       "      <td>0.0672</td>\n",
       "      <td>0.0968</td>\n",
       "      <td>0.3654</td>\n",
       "      <td>0.8654</td>\n",
       "      <td>3.6258</td>\n",
       "      <td>0.2442</td>\n",
       "      <td>3.6258</td>\n",
       "    </tr>\n",
       "    <tr>\n",
       "      <th>138</th>\n",
       "      <td>Zambia</td>\n",
       "      <td>0.0974</td>\n",
       "      <td>0.2186</td>\n",
       "      <td>0.3028</td>\n",
       "      <td>0.9324</td>\n",
       "      <td>4.5844</td>\n",
       "      <td>0.4622</td>\n",
       "      <td>4.5844</td>\n",
       "    </tr>\n",
       "    <tr>\n",
       "      <th>139</th>\n",
       "      <td>Zimbabwe</td>\n",
       "      <td>0.0900</td>\n",
       "      <td>0.1694</td>\n",
       "      <td>0.2746</td>\n",
       "      <td>1.0078</td>\n",
       "      <td>4.0066</td>\n",
       "      <td>0.3232</td>\n",
       "      <td>4.0066</td>\n",
       "    </tr>\n",
       "  </tbody>\n",
       "</table>\n",
       "<p>140 rows × 8 columns</p>\n",
       "</div>"
      ],
      "text/plain": [
       "         Country  Gov Trust Average  Generocity Average  Health Average  \\\n",
       "0    Afghanistan             0.0580              0.2678          0.2546   \n",
       "1        Albania             0.0432              0.1678          0.7876   \n",
       "2        Algeria             0.1462              0.0690          0.6652   \n",
       "3      Argentina             0.0644              0.0924          0.7608   \n",
       "4        Armenia             0.0388              0.0824          0.6980   \n",
       "..           ...                ...                 ...             ...   \n",
       "135    Venezuela             0.0714              0.0572          0.6838   \n",
       "136      Vietnam             0.0920              0.1958          0.7228   \n",
       "137        Yemen             0.0672              0.0968          0.3654   \n",
       "138       Zambia             0.0974              0.2186          0.3028   \n",
       "139     Zimbabwe             0.0900              0.1694          0.2746   \n",
       "\n",
       "     Family Average  Economy GDP Average  Freedom Average  Happiness Average  \n",
       "0            0.4098               3.5128           0.1178             3.5128  \n",
       "1            0.7550               4.7126           0.3718             4.7126  \n",
       "2            1.0742               5.6676           0.1784             5.6676  \n",
       "3            1.3308               6.4594           0.4818             6.4594  \n",
       "4            0.8908               4.3932           0.2158             4.3932  \n",
       "..              ...                  ...              ...                ...  \n",
       "135          1.3232               5.5314           0.2136             5.5314  \n",
       "136          1.1382               5.1546           0.5772             5.1546  \n",
       "137          0.8654               3.6258           0.2442             3.6258  \n",
       "138          0.9324               4.5844           0.4622             4.5844  \n",
       "139          1.0078               4.0066           0.3232             4.0066  \n",
       "\n",
       "[140 rows x 8 columns]"
      ]
     },
     "execution_count": 26,
     "metadata": {},
     "output_type": "execute_result"
    }
   ],
   "source": [
    "complete_path = \"Resources/Country_output.csv\"\n",
    "\n",
    "# Read csv files through Pandas\n",
    "data = pd.read_csv(complete_path)\n",
    "data"
   ]
  },
  {
   "cell_type": "code",
   "execution_count": 98,
   "metadata": {},
   "outputs": [
    {
     "data": {
      "image/png": "[encoded data removed]",
      "text/plain": [
       "<Figure size 432x288 with 1 Axes>"
      ]
     },
     "metadata": {
      "needs_background": "light"
     },
     "output_type": "display_data"
    }
   ],
   "source": [
    "# Configure boxplot\n",
    "fig, ax = plt.subplots()\n",
    "data.boxplot(column=[\"Gov Trust Average\", \"Generocity Average\", \"Health Average\", \"Family Average\", \"Freedom Average\"], rot = 90, showfliers = False, grid = False)\n",
    "\n",
    "# Create mask for country Australia\n",
    "mask = data.Country.str.startswith('Australia', na=False)\n",
    "\n",
    "# Create a scatterplot using mask\n",
    "ax.scatter(1, data[mask][\"Gov Trust Average\"], \n",
    "           marker='x', s=200, color='r')\n",
    "ax.scatter(2, data[mask][\"Generocity Average\"], \n",
    "           marker='x', s=200, color='r')\n",
    "ax.scatter(3, data[mask][\"Health Average\"], \n",
    "           marker='x', s=200, color='r')\n",
    "ax.scatter(4, data[mask][\"Family Average\"], \n",
    "           marker='x', s=200, color='r')\n",
    "ax.scatter(5, data[mask][\"Freedom Average\"], \n",
    "           marker='x', s=200, color='r')\n",
    "plt.title(\"How Does Australia Compare?\")\n",
    "plt.show()"
   ]
  },
  {
   "cell_type": "markdown",
   "metadata": {},
   "source": [
    "- Most characteristics above Q3\n",
    "- Government Trust is our best characteristic (considered an outlier)"
   ]
  },
  {
   "cell_type": "code",
   "execution_count": 96,
   "metadata": {},
   "outputs": [
    {
     "data": {
      "image/png": "[encoded data removed]",
      "text/plain": [
       "<Figure size 432x288 with 1 Axes>"
      ]
     },
     "metadata": {
      "needs_background": "light"
     },
     "output_type": "display_data"
    }
   ],
   "source": [
    "fig, ax = plt.subplots()\n",
    "data.boxplot(column=[\"Economy GDP Average\"], rot = 90, showfliers = False, grid = False)\n",
    "mask = data.Country.str.startswith('Australia', na=False)\n",
    "ax.scatter(1, data[mask][\"Economy GDP Average\"], \n",
    "           marker='x', s=200, color='r')\n",
    "plt.title(\"How Does Australia Compare?\")\n",
    "plt.show()"
   ]
  }
 ],
 "metadata": {
  "kernelspec": {
   "display_name": "Python 3",
   "language": "python",
   "name": "python3"
  },
  "language_info": {
   "codemirror_mode": {
    "name": "ipython",
    "version": 3
   },
   "file_extension": ".py",
   "mimetype": "text/x-python",
   "name": "python",
   "nbconvert_exporter": "python",
   "pygments_lexer": "ipython3",
   "version": "3.8.5"
  }
 },
 "nbformat": 4,
 "nbformat_minor": 4
}
